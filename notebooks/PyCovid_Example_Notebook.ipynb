{
  "nbformat": 4,
  "nbformat_minor": 0,
  "metadata": {
    "colab": {
      "name": "PyCovid_Example_Notebook.ipynb",
      "provenance": [],
      "private_outputs": true,
      "authorship_tag": "ABX9TyMBi+UxzO2l5pECwmLbQzH/",
      "include_colab_link": true
    },
    "kernelspec": {
      "name": "python3",
      "display_name": "Python 3"
    }
  },
  "cells": [
    {
      "cell_type": "markdown",
      "metadata": {
        "id": "view-in-github",
        "colab_type": "text"
      },
      "source": [
        "<a href=\"https://colab.research.google.com/github/kylemath/pycovid/blob/USStates/notebooks/PyCovid_Example_Notebook.ipynb\" target=\"_parent\"><img src=\"https://colab.research.google.com/assets/colab-badge.svg\" alt=\"Open In Colab\"/></a>"
      ]
    },
    {
      "cell_type": "code",
      "metadata": {
        "id": "vhObgZV0unt1",
        "colab_type": "code",
        "colab": {}
      },
      "source": [
        "!pip install pycovid\n",
        "from pycovid import pycovid\n"
      ],
      "execution_count": 0,
      "outputs": []
    },
    {
      "cell_type": "code",
      "metadata": {
        "id": "Ro7V8KYwSfKr",
        "colab_type": "code",
        "colab": {}
      },
      "source": [
        "pycovid.plot_countries(metric='log_confirmed')"
      ],
      "execution_count": 0,
      "outputs": []
    },
    {
      "cell_type": "code",
      "metadata": {
        "id": "q718J_RTShys",
        "colab_type": "code",
        "colab": {}
      },
      "source": [
        "pycovid.plot_countries_trend(countries=['Iran', 'Italy', 'Spain', 'Portugal', 'Japan', 'Germany', 'Mexico'],\n",
        "\t\t\tcasetype=['confirmed'], start_date=\"2020-01-01\", plottype=\"linear\")\n"
      ],
      "execution_count": 0,
      "outputs": []
    },
    {
      "cell_type": "code",
      "metadata": {
        "id": "TQc1thiUuagI",
        "colab_type": "code",
        "colab": {}
      },
      "source": [
        "pycovid.plot_provinces(country=['Australia'],  \n",
        "\t\t\tcasetype=['confirmed'], start_date=\"2019-12-01\", plottype=\"log\",\n",
        "      proportion=False, cumulative=True)\n",
        "pycovid.plot_provinces(country=['Canada'],  \n",
        "\t\t\tcasetype=['confirmed'], start_date=\"2019-12-01\", plottype=\"log\",\n",
        "\t\t\tproportion=False, cumulative=True)"
      ],
      "execution_count": 0,
      "outputs": []
    }
  ]
}